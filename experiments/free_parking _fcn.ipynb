{
 "cells": [
  {
   "cell_type": "code",
   "execution_count": 85,
   "metadata": {
    "collapsed": false
   },
   "outputs": [],
   "source": [
    "def free_parking(d):\n",
    "    # holiday (skip and if on sunday skip mon)\n",
    "    holiday = ['01-01', '07-04', '11-11', '12-15']\n",
    "    d_str = d.strftime('%m-%d')\n",
    "    if d_str in holiday:\n",
    "        print '\\tskip holiday'\n",
    "        return True\n",
    "    mon_after = (d - dt.timedelta(days=1)).strftime('%m-%d')\n",
    "    if mon_after in holiday and d.weekday() == 0:\n",
    "        print '\\tmon after sun holiday'\n",
    "        return True\n",
    "    # Any Sunday\n",
    "    if d.weekday() == 6:\n",
    "        print '\\tskip sunday...'\n",
    "        return True\n",
    "    # 3rd Mon Feb and Jan (mlk and pres day)\n",
    "    elif d.weekday() == 0 and 14 < d.day < 22 and 1 <= d.month <= 2:\n",
    "        print '\\tskip mlk / pres day...'\n",
    "        return True\n",
    "    # Last Mon of may (memorial)\n",
    "    elif d.weekday() == 0 and 21 < d.day < 32 and  d.month == 5:\n",
    "        print '\\tskip memorial day...'\n",
    "        return True\n",
    "    # 1st Mon sept (labor)\n",
    "    elif d.weekday() == 0 and 0 < d.day < 8 and  d.month == 9:\n",
    "        print '\\tskip labor day...'\n",
    "        return True\n",
    "    # 4th Thurs Nov (thanksgiving)\n",
    "    elif d.weekday() == 3 and 21 < d.day < 29 and  d.month == 11:\n",
    "        print '\\tskip thanksgiving day...'\n",
    "        return True\n",
    "    # 4th Thurs Nov (thanksgiving)\n",
    "    elif d.weekday() == 3 and 21 < d.day < 29 and  d.month == 11:\n",
    "        print '\\tskip thanksgiving day...'\n",
    "        return True\n"
   ]
  },
  {
   "cell_type": "code",
   "execution_count": 83,
   "metadata": {
    "collapsed": false
   },
   "outputs": [
    {
     "name": "stdout",
     "output_type": "stream",
     "text": [
      "weekday 0\n",
      "01-01\n",
      "skip holiday or mon after sun holiday\n"
     ]
    }
   ],
   "source": [
    "days = ['1-2-2015', '1-2-2014', '1-2-2012', '1-2-2011', '1-2-2010', '1-2-2009', \n",
    "        '1-2-2008','1-2-2006','1-2-2007','1-2-2005']\n",
    "days = ['1-2-2012']\n",
    "for day in days:\n",
    "    date = dt.datetime.strptime(day, '%m-%d-%Y')\n",
    "#     print 'month %d' % date.month\n",
    "    print 'weekday %d' % date.weekday()\n",
    "    free_parking(date)"
   ]
  },
  {
   "cell_type": "code",
   "execution_count": null,
   "metadata": {
    "collapsed": true
   },
   "outputs": [],
   "source": []
  }
 ],
 "metadata": {
  "kernelspec": {
   "display_name": "Python 2",
   "language": "python",
   "name": "python2"
  },
  "language_info": {
   "codemirror_mode": {
    "name": "ipython",
    "version": 2
   },
   "file_extension": ".py",
   "mimetype": "text/x-python",
   "name": "python",
   "nbconvert_exporter": "python",
   "pygments_lexer": "ipython2",
   "version": "2.7.6"
  }
 },
 "nbformat": 4,
 "nbformat_minor": 0
}
