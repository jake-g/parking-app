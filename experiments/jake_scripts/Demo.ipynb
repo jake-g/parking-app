{
 "cells": [
  {
   "cell_type": "code",
   "execution_count": 12,
   "metadata": {
    "collapsed": false
   },
   "outputs": [],
   "source": [
    "%matplotlib inline\n",
    "\n",
    "import os\n",
    "import marshal\n",
    "import pickle\n",
    "import numpy as np\n",
    "import gmplot # you need to install this from the above link\n",
    "gmap=gmplot.GoogleMapPlotter(47.6097,-122.3331,13) # this centers the map in seattle\n",
    "#this line isnt needed\n",
    "\n",
    "def draw_blocks(coords, clr):\n",
    "    for b in range(np.size(coords,0)):\n",
    "        gmap.polygon([coords[b,1],coords[b,3]],[coords[b,0], coords[b,2]],color=clr,edge_width=3)\n",
    "        \n",
    "\n",
    "\n",
    "locs=pickle.load(open('../datastore/blockfacelocs.p','rb')) # load location data\n",
    "allblocks=pickle.load(open('../datastore/allblocks.p','rb')) # load location data\n",
    "allblocks2 = marshal.load(open('../datastore/allblockfaces.m', 'rb'))\n",
    "\n",
    "clusterlocs=np.asarray(locs.values())\n",
    "blocks = np.asarray(allblocks)\n",
    "blocks2 = np.asanyarray(allblocks2.values())\n",
    "print 'Drawing %d red blocks, %d green blocks, and %d blue blocks' \\\n",
    "    % (np.size(clusterlocs,0), np.size(blocks,0), np.size(blocks2,0))\n",
    "# draw_blocks(clusterlocs, 'red')\n",
    "# draw_blocks(blocks, 'green')\n",
    "draw_blocks(blocks2, 'blue')\n",
    "\n",
    "fname = 'blueblocks.html'\n",
    "gmap.draw(\"../html/\" + fname)"
   ]
  },
  {
   "cell_type": "code",
   "execution_count": 13,
   "metadata": {
    "collapsed": false
   },
   "outputs": [
    {
     "data": {
      "text/html": [
       "\n",
       "        <iframe\n",
       "            width=\"900\"\n",
       "            height=\"1200\"\n",
       "            src=\"../html/blueblocks.html\"\n",
       "            frameborder=\"0\"\n",
       "            allowfullscreen\n",
       "        ></iframe>\n",
       "        "
      ],
      "text/plain": [
       "<IPython.lib.display.IFrame at 0x11284cc90>"
      ]
     },
     "execution_count": 13,
     "metadata": {},
     "output_type": "execute_result"
    }
   ],
   "source": [
    "from IPython.display import IFrame\n",
    "IFrame(\"../html/\" + fname, width=900, height=1200)"
   ]
  },
  {
   "cell_type": "code",
   "execution_count": null,
   "metadata": {
    "collapsed": true
   },
   "outputs": [],
   "source": []
  }
 ],
 "metadata": {
  "kernelspec": {
   "display_name": "Python 2",
   "language": "python",
   "name": "python2"
  },
  "language_info": {
   "codemirror_mode": {
    "name": "ipython",
    "version": 2
   },
   "file_extension": ".py",
   "mimetype": "text/x-python",
   "name": "python",
   "nbconvert_exporter": "python",
   "pygments_lexer": "ipython2",
   "version": "2.7.11"
  }
 },
 "nbformat": 4,
 "nbformat_minor": 0
}
