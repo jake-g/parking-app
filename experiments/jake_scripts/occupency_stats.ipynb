{
 "cells": [
  {
   "cell_type": "code",
   "execution_count": 22,
   "metadata": {
    "collapsed": false
   },
   "outputs": [
    {
     "name": "stdout",
     "output_type": "stream",
     "text": [
      "min: 1.000000\t max: 47.000000\t mean: 7.774260\t var: 22.803825\n"
     ]
    }
   ],
   "source": [
    "import numpy as np\n",
    "import json\n",
    "from pprint import pprint\n",
    "\n",
    "with open('paystations.json') as f:    \n",
    "    data = json.load(f)\n",
    "    vals = np.array(data.values())\n",
    "    occ = vals[:,6]\n",
    "    print 'min: %f\\t max: %f\\t mean: %f\\t var: %f' % (np.min(occ), np.max(occ), np.mean(occ), np.var(occ))"
   ]
  },
  {
   "cell_type": "code",
   "execution_count": 26,
   "metadata": {
    "collapsed": false
   },
   "outputs": [
    {
     "name": "stdout",
     "output_type": "stream",
     "text": [
      "array([[-122.341 ,   47.6232, -122.34  , ..., -122.34  ,   47.6232,    2.    ],\n",
      "       [-122.34  ,   47.6371, -122.34  , ..., -122.34  ,   47.6372,   13.    ],\n",
      "       [-122.354 ,   47.6246, -122.354 , ..., -122.354 ,   47.625 ,    1.    ],\n",
      "       ..., \n",
      "       [-122.33  ,   47.6094, -122.331 , ..., -122.331 ,   47.6103,    8.    ],\n",
      "       [-122.336 ,   47.5983, -122.336 , ..., -122.336 ,   47.5978,    5.    ],\n",
      "       [-122.351 ,   47.6139, -122.35  , ..., -122.351 ,   47.6142,    5.    ]])\n"
     ]
    }
   ],
   "source": [
    "pprint(vals)"
   ]
  },
  {
   "cell_type": "code",
   "execution_count": 29,
   "metadata": {
    "collapsed": false
   },
   "outputs": [
    {
     "data": {
      "image/png": "[encoded data removed]",
      "text/plain": [
       "<matplotlib.figure.Figure at 0x1165be390>"
      ]
     },
     "metadata": {},
     "output_type": "display_data"
    },
    {
     "name": "stdout",
     "output_type": "stream",
     "text": [
      "-0.297066839981\n"
     ]
    }
   ],
   "source": [
    "import matplotlib.pyplot as plt\n",
    "\n",
    "# the histogram of the data \n",
    "norm_occ = (occ - np.mean(occ))/(np.var(occ))\n",
    "n, bins, patches = plt.hist(2*(50 - occ), 20, normed=1, facecolor='green', alpha=0.75)\n",
    "plt.show()\n",
    "\n",
    "print min(norm_occ)\n"
   ]
  },
  {
   "cell_type": "code",
   "execution_count": null,
   "metadata": {
    "collapsed": true
   },
   "outputs": [],
   "source": []
  }
 ],
 "metadata": {
  "kernelspec": {
   "display_name": "Python 2",
   "language": "python",
   "name": "python2"
  },
  "language_info": {
   "codemirror_mode": {
    "name": "ipython",
    "version": 2
   },
   "file_extension": ".py",
   "mimetype": "text/x-python",
   "name": "python",
   "nbconvert_exporter": "python",
   "pygments_lexer": "ipython2",
   "version": "2.7.11"
  }
 },
 "nbformat": 4,
 "nbformat_minor": 0
}
